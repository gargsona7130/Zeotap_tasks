{
 "cells": [
  {
   "cell_type": "code",
   "execution_count": 68,
   "id": "1ceb205d",
   "metadata": {},
   "outputs": [],
   "source": [
    "import pandas as pd"
   ]
  },
  {
   "cell_type": "code",
   "execution_count": 40,
   "id": "a9d6724c",
   "metadata": {},
   "outputs": [],
   "source": [
    "import numpy as np"
   ]
  },
  {
   "cell_type": "code",
   "execution_count": 41,
   "id": "a0bf4204",
   "metadata": {},
   "outputs": [],
   "source": [
    "import matplotlib.pyplot as plt"
   ]
  },
  {
   "cell_type": "code",
   "execution_count": 42,
   "id": "e013a43f",
   "metadata": {},
   "outputs": [],
   "source": [
    "import seaborn as sns"
   ]
  },
  {
   "cell_type": "code",
   "execution_count": 43,
   "id": "72665b14",
   "metadata": {},
   "outputs": [],
   "source": [
    "customers = pd.read_csv(\"Customers.csv\")"
   ]
  },
  {
   "cell_type": "code",
   "execution_count": 44,
   "id": "42389593",
   "metadata": {},
   "outputs": [],
   "source": [
    "products = pd.read_csv(\"Products.csv\")"
   ]
  },
  {
   "cell_type": "code",
   "execution_count": 45,
   "id": "8b6f3d05",
   "metadata": {},
   "outputs": [],
   "source": [
    "transactions = pd.read_csv(\"Transactions.csv\")"
   ]
  },
  {
   "cell_type": "code",
   "execution_count": 46,
   "id": "1738a821",
   "metadata": {},
   "outputs": [
    {
     "name": "stdout",
     "output_type": "stream",
     "text": [
      "<class 'pandas.core.frame.DataFrame'>\n",
      "RangeIndex: 200 entries, 0 to 199\n",
      "Data columns (total 4 columns):\n",
      " #   Column        Non-Null Count  Dtype \n",
      "---  ------        --------------  ----- \n",
      " 0   CustomerID    200 non-null    object\n",
      " 1   CustomerName  200 non-null    object\n",
      " 2   Region        200 non-null    object\n",
      " 3   SignupDate    200 non-null    object\n",
      "dtypes: object(4)\n",
      "memory usage: 6.4+ KB\n",
      "None\n"
     ]
    }
   ],
   "source": [
    "print(customers.info())"
   ]
  },
  {
   "cell_type": "code",
   "execution_count": 47,
   "id": "a8295f5d",
   "metadata": {},
   "outputs": [
    {
     "name": "stdout",
     "output_type": "stream",
     "text": [
      "CustomerID      0\n",
      "CustomerName    0\n",
      "Region          0\n",
      "SignupDate      0\n",
      "dtype: int64\n"
     ]
    }
   ],
   "source": [
    "print(customers.isnull().sum())"
   ]
  },
  {
   "cell_type": "code",
   "execution_count": 48,
   "id": "00150895",
   "metadata": {},
   "outputs": [
    {
     "name": "stdout",
     "output_type": "stream",
     "text": [
      "0\n"
     ]
    }
   ],
   "source": [
    "print(customers.duplicated().sum())"
   ]
  },
  {
   "cell_type": "code",
   "execution_count": 49,
   "id": "7e56fb6a",
   "metadata": {},
   "outputs": [
    {
     "name": "stdout",
     "output_type": "stream",
     "text": [
      "<class 'pandas.core.frame.DataFrame'>\n",
      "RangeIndex: 100 entries, 0 to 99\n",
      "Data columns (total 4 columns):\n",
      " #   Column       Non-Null Count  Dtype  \n",
      "---  ------       --------------  -----  \n",
      " 0   ProductID    100 non-null    object \n",
      " 1   ProductName  100 non-null    object \n",
      " 2   Category     100 non-null    object \n",
      " 3   Price        100 non-null    float64\n",
      "dtypes: float64(1), object(3)\n",
      "memory usage: 3.2+ KB\n",
      "None\n"
     ]
    }
   ],
   "source": [
    "print(products.info())"
   ]
  },
  {
   "cell_type": "code",
   "execution_count": 50,
   "id": "eac6e94a",
   "metadata": {},
   "outputs": [
    {
     "name": "stdout",
     "output_type": "stream",
     "text": [
      "ProductID      0\n",
      "ProductName    0\n",
      "Category       0\n",
      "Price          0\n",
      "dtype: int64\n"
     ]
    }
   ],
   "source": [
    "print(products.isnull().sum())"
   ]
  },
  {
   "cell_type": "code",
   "execution_count": 51,
   "id": "9b99f8af",
   "metadata": {},
   "outputs": [
    {
     "name": "stdout",
     "output_type": "stream",
     "text": [
      "0\n"
     ]
    }
   ],
   "source": [
    "print(products.duplicated().sum())"
   ]
  },
  {
   "cell_type": "code",
   "execution_count": 17,
   "id": "b79d96bf",
   "metadata": {},
   "outputs": [
    {
     "name": "stdout",
     "output_type": "stream",
     "text": [
      "<class 'pandas.core.frame.DataFrame'>\n",
      "RangeIndex: 5 entries, 0 to 4\n",
      "Data columns (total 6 columns):\n",
      " #   Column           Non-Null Count  Dtype \n",
      "---  ------           --------------  ----- \n",
      " 0   TransactionID    5 non-null      object\n",
      " 1   CustomerID       5 non-null      object\n",
      " 2   ProductID        5 non-null      object\n",
      " 3   Qty              5 non-null      int64 \n",
      " 4   Rate             5 non-null      int64 \n",
      " 5   TransactionDate  5 non-null      object\n",
      "dtypes: int64(2), object(4)\n",
      "memory usage: 368.0+ bytes\n",
      "None\n"
     ]
    }
   ],
   "source": [
    "print(transactions.info())"
   ]
  },
  {
   "cell_type": "code",
   "execution_count": 52,
   "id": "6c3fb5f1",
   "metadata": {},
   "outputs": [
    {
     "name": "stdout",
     "output_type": "stream",
     "text": [
      "TransactionID      0\n",
      "CustomerID         0\n",
      "ProductID          0\n",
      "TransactionDate    0\n",
      "Quantity           0\n",
      "TotalValue         0\n",
      "Price              0\n",
      "dtype: int64\n"
     ]
    }
   ],
   "source": [
    "print(transactions.isnull().sum())"
   ]
  },
  {
   "cell_type": "code",
   "execution_count": 53,
   "id": "02119f59",
   "metadata": {},
   "outputs": [
    {
     "name": "stdout",
     "output_type": "stream",
     "text": [
      "0\n"
     ]
    }
   ],
   "source": [
    "print(transactions.duplicated().sum())"
   ]
  },
  {
   "cell_type": "code",
   "execution_count": 55,
   "id": "ca1dc264",
   "metadata": {},
   "outputs": [
    {
     "data": {
      "image/png": "[encoded data removed]",
      "text/plain": [
       "<Figure size 800x500 with 1 Axes>"
      ]
     },
     "metadata": {},
     "output_type": "display_data"
    }
   ],
   "source": [
    "plt.figure(figsize=(8, 5))\n",
    "sns.countplot(data=customers, x='Region')\n",
    "plt.title('Customer Distribution by Region')\n",
    "plt.show()"
   ]
  },
  {
   "cell_type": "code",
   "execution_count": 56,
   "id": "9f430858",
   "metadata": {},
   "outputs": [],
   "source": [
    "transactions['TransactionDate'] = pd.to_datetime(transactions['TransactionDate'])"
   ]
  },
  {
   "cell_type": "code",
   "execution_count": 57,
   "id": "bafd99ec",
   "metadata": {},
   "outputs": [],
   "source": [
    "transactions['Month'] = transactions['TransactionDate'].dt.to_period('M')\n",
    "monthly_sales = transactions.groupby('Month').size()"
   ]
  },
  {
   "cell_type": "code",
   "execution_count": 58,
   "id": "6bbd0b90",
   "metadata": {},
   "outputs": [
    {
     "data": {
      "image/png": "[encoded data removed]",
      "text/plain": [
       "<Figure size 1000x500 with 1 Axes>"
      ]
     },
     "metadata": {},
     "output_type": "display_data"
    }
   ],
   "source": [
    "plt.figure(figsize=(10, 5))\n",
    "monthly_sales.plot(kind='bar', color='teal')\n",
    "plt.title('Monthly Transactions')\n",
    "plt.ylabel('Number of Transactions')\n",
    "plt.show()"
   ]
  },
  {
   "cell_type": "code",
   "execution_count": 60,
   "id": "560fd2ea",
   "metadata": {},
   "outputs": [
    {
     "name": "stdout",
     "output_type": "stream",
     "text": [
      "ProductID\n",
      "P059    46\n",
      "P054    46\n",
      "P029    45\n",
      "P079    43\n",
      "P061    43\n",
      "Name: Quantity, dtype: int64\n"
     ]
    }
   ],
   "source": [
    "top_products = transactions.groupby('ProductID')['Quantity'].sum().sort_values(ascending=False).head()\n",
    "print(top_products)"
   ]
  },
  {
   "cell_type": "code",
   "execution_count": 63,
   "id": "0afb0957",
   "metadata": {},
   "outputs": [
    {
     "name": "stdout",
     "output_type": "stream",
     "text": [
      "CustomerID\n",
      "C0141    10673.87\n",
      "C0054     8040.39\n",
      "C0065     7663.70\n",
      "C0156     7634.45\n",
      "C0082     7572.91\n",
      "Name: TotalSpend, dtype: float64\n"
     ]
    }
   ],
   "source": [
    "transactions['TotalSpend'] = transactions['Quantity'] * transactions['Price']  # Or use 'TotalValue' if available\n",
    "customer_spending = transactions.groupby('CustomerID')['TotalSpend'].sum()\n",
    "top_customers = customer_spending.sort_values(ascending=False).head()\n",
    "print(top_customers)"
   ]
  },
  {
   "cell_type": "code",
   "execution_count": 64,
   "id": "7e81b3ef",
   "metadata": {},
   "outputs": [
    {
     "name": "stdout",
     "output_type": "stream",
     "text": [
      "ProductID\n",
      "P059    46\n",
      "P054    46\n",
      "P029    45\n",
      "P079    43\n",
      "P061    43\n",
      "Name: Quantity, dtype: int64\n"
     ]
    }
   ],
   "source": [
    "product_quantity = transactions.groupby('ProductID')['Quantity'].sum().sort_values(ascending=False).head()\n",
    "print(product_quantity)"
   ]
  },
  {
   "cell_type": "code",
   "execution_count": 65,
   "id": "48963115",
   "metadata": {},
   "outputs": [],
   "source": [
    "with open(\"Sonal_Garg_EDA.pdf\", \"w\") as f:\n",
    "    f.write(\"Business Insights:\\n\")\n",
    "    f.write(\"1. Region distribution shows a mix of North, South, East, and West.\\n\")\n",
    "    f.write(\"2. Monthly transactions show an increasing trend.\\n\")\n",
    "    f.write(\"3. Top 5 products by quantity sold are identified.\\n\")\n",
    "    f.write(\"4. Top customers based on total spending can be targeted for retention.\\n\")\n",
    "    f.write(\"5. Product quantity patterns help identify high-demand items.\\n\")"
   ]
  }
 ],
 "metadata": {
  "kernelspec": {
   "display_name": "Python 3 (ipykernel)",
   "language": "python",
   "name": "python3"
  },
  "language_info": {
   "codemirror_mode": {
    "name": "ipython",
    "version": 3
   },
   "file_extension": ".py",
   "mimetype": "text/x-python",
   "name": "python",
   "nbconvert_exporter": "python",
   "pygments_lexer": "ipython3",
   "version": "3.9.13"
  }
 },
 "nbformat": 4,
 "nbformat_minor": 5
}
