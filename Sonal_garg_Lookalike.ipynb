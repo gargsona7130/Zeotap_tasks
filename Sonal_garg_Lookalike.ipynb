{
 "cells": [
  {
   "cell_type": "code",
   "execution_count": 1,
   "id": "81d0a38a",
   "metadata": {},
   "outputs": [],
   "source": [
    "import pandas as pd\n",
    "import numpy as np\n",
    "from sklearn.metrics.pairwise import cosine_similarity\n",
    "from sklearn.preprocessing import StandardScaler"
   ]
  },
  {
   "cell_type": "code",
   "execution_count": 2,
   "id": "eab16b0f",
   "metadata": {},
   "outputs": [],
   "source": [
    "customers = pd.read_csv('Customers.csv')\n",
    "products = pd.read_csv('Products.csv')\n",
    "transactions = pd.read_csv('Transactions.csv')"
   ]
  },
  {
   "cell_type": "code",
   "execution_count": 3,
   "id": "4ddc09d8",
   "metadata": {},
   "outputs": [],
   "source": [
    "merged_data = pd.merge(transactions, customers, on='CustomerID', how='left')"
   ]
  },
  {
   "cell_type": "code",
   "execution_count": 4,
   "id": "56f0252b",
   "metadata": {},
   "outputs": [],
   "source": [
    "customer_profiles = merged_data.groupby('CustomerID').agg({\n",
    "    'Quantity': 'sum',  # Total quantity purchased by the customer\n",
    "    'TotalValue': 'sum',  # Total spending by the customer\n",
    "    'Region': 'first'  # We'll encode Region as a categorical value later\n",
    "}).reset_index()"
   ]
  },
  {
   "cell_type": "code",
   "execution_count": 5,
   "id": "52397140",
   "metadata": {},
   "outputs": [],
   "source": [
    "customer_profiles['Region'] = customer_profiles['Region'].astype('category').cat.codes"
   ]
  },
  {
   "cell_type": "code",
   "execution_count": 6,
   "id": "237a3436",
   "metadata": {},
   "outputs": [],
   "source": [
    "X = customer_profiles[['Quantity', 'TotalValue', 'Region']].values"
   ]
  },
  {
   "cell_type": "code",
   "execution_count": 7,
   "id": "f83d550c",
   "metadata": {},
   "outputs": [],
   "source": [
    "scaler = StandardScaler()\n",
    "X_scaled = scaler.fit_transform(X)"
   ]
  },
  {
   "cell_type": "code",
   "execution_count": 8,
   "id": "472b0fbc",
   "metadata": {},
   "outputs": [],
   "source": [
    "cosine_sim = cosine_similarity(X_scaled)"
   ]
  },
  {
   "cell_type": "code",
   "execution_count": 10,
   "id": "eaa33832",
   "metadata": {},
   "outputs": [],
   "source": [
    "cosine_sim_df = pd.DataFrame(cosine_sim, index=customer_profiles['CustomerID'], columns=customer_profiles['CustomerID'])"
   ]
  },
  {
   "cell_type": "code",
   "execution_count": 11,
   "id": "63ff680c",
   "metadata": {},
   "outputs": [],
   "source": [
    "lookalike_recommendations = []"
   ]
  },
  {
   "cell_type": "code",
   "execution_count": 12,
   "id": "462febd6",
   "metadata": {},
   "outputs": [],
   "source": [
    "for customer in customer_profiles['CustomerID'][:20]:\n",
    "    similar_customers = cosine_sim_df[customer].nlargest(4)\n",
    "    similar_customers = similar_customers.drop(customer)"
   ]
  },
  {
   "cell_type": "code",
   "execution_count": 13,
   "id": "b9e34d6a",
   "metadata": {},
   "outputs": [],
   "source": [
    "recommended_customers = similar_customers.head(3)"
   ]
  },
  {
   "cell_type": "code",
   "execution_count": 16,
   "id": "13ba3227",
   "metadata": {},
   "outputs": [],
   "source": [
    "lookalike_recommendations = []\n",
    "\n",
    "for customer in customer_profiles['CustomerID'][:20]:\n",
    "    similar_customers = cosine_sim_df[customer].nlargest(4)  \n",
    "    similar_customers = similar_customers.drop(customer) \n",
    "    recommended_customers = similar_customers.head(3)\n",
    "    recommendation = {\n",
    "        'CustomerID': customer,\n",
    "        'SimilarCustomerID1': recommended_customers.index[0],\n",
    "        'Score1': recommended_customers.iloc[0],\n",
    "        'SimilarCustomerID2': recommended_customers.index[1],\n",
    "        'Score2': recommended_customers.iloc[1],\n",
    "        'SimilarCustomerID3': recommended_customers.index[2],\n",
    "        'Score3': recommended_customers.iloc[2]\n",
    "    }\n",
    "    lookalike_recommendations.append(recommendation)\n"
   ]
  },
  {
   "cell_type": "code",
   "execution_count": 17,
   "id": "18c443b2",
   "metadata": {},
   "outputs": [],
   "source": [
    "lookalike_df = pd.DataFrame(lookalike_recommendations)"
   ]
  },
  {
   "cell_type": "code",
   "execution_count": 18,
   "id": "f2c9153b",
   "metadata": {},
   "outputs": [],
   "source": [
    "lookalike_df.to_csv('Sonal_Garg_Lookalike.csv', index=False)"
   ]
  },
  {
   "cell_type": "code",
   "execution_count": 19,
   "id": "43352288",
   "metadata": {},
   "outputs": [
    {
     "name": "stdout",
     "output_type": "stream",
     "text": [
      "Lookalike model recommendations have been saved to 'Sonal_Garg_Lookalike.csv'.\n"
     ]
    }
   ],
   "source": [
    "print(\"Lookalike model recommendations have been saved to 'Sonal_Garg_Lookalike.csv'.\")"
   ]
  },
  {
   "cell_type": "code",
   "execution_count": null,
   "id": "53ef4da7",
   "metadata": {},
   "outputs": [],
   "source": []
  }
 ],
 "metadata": {
  "kernelspec": {
   "display_name": "Python 3 (ipykernel)",
   "language": "python",
   "name": "python3"
  },
  "language_info": {
   "codemirror_mode": {
    "name": "ipython",
    "version": 3
   },
   "file_extension": ".py",
   "mimetype": "text/x-python",
   "name": "python",
   "nbconvert_exporter": "python",
   "pygments_lexer": "ipython3",
   "version": "3.9.13"
  }
 },
 "nbformat": 4,
 "nbformat_minor": 5
}
